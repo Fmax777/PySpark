{
  "nbformat": 4,
  "nbformat_minor": 0,
  "metadata": {
    "colab": {
      "provenance": []
    },
    "kernelspec": {
      "name": "python3",
      "display_name": "Python 3"
    },
    "language_info": {
      "name": "python"
    }
  },
  "cells": [
    {
      "cell_type": "code",
      "execution_count": 1,
      "metadata": {
        "colab": {
          "base_uri": "https://localhost:8080/"
        },
        "id": "rtVpuXr25_Mx",
        "outputId": "5b163a38-2f27-432c-842a-20785ca08afd"
      },
      "outputs": [
        {
          "output_type": "stream",
          "name": "stdout",
          "text": [
            "Top 10 active IP address:\n",
            "+---------------+-------------+\n",
            "|             ip|request_count|\n",
            "+---------------+-------------+\n",
            "|  41.91.124.220|            1|\n",
            "|  146.124.73.40|            1|\n",
            "|  72.37.124.146|            1|\n",
            "|   32.76.79.141|            1|\n",
            "|   202.2.137.40|            1|\n",
            "|   147.9.34.141|            1|\n",
            "|152.249.106.183|            1|\n",
            "|   178.166.2.51|            1|\n",
            "|  190.101.207.6|            1|\n",
            "|  47.175.154.37|            1|\n",
            "+---------------+-------------+\n",
            "\n",
            "Request count by HTTP method:\n",
            "+------+------------+\n",
            "|method|method_count|\n",
            "+------+------------+\n",
            "|  POST|       24846|\n",
            "|DELETE|       25136|\n",
            "|   PUT|       25019|\n",
            "|   GET|       24999|\n",
            "+------+------------+\n",
            "\n",
            "Number of 404 response codes: 25180\n",
            "+----------+-------------------+\n",
            "|      date|total_response_size|\n",
            "+----------+-------------------+\n",
            "|2025-01-01|           16261629|\n",
            "|2025-01-02|           16837720|\n",
            "|2025-01-03|           15584872|\n",
            "|2025-01-04|           15903789|\n",
            "|2025-01-05|           16094484|\n",
            "|2025-01-06|           16295148|\n",
            "|2025-01-07|           15582177|\n",
            "|2025-01-08|           15926151|\n",
            "|2025-01-09|           15863530|\n",
            "|2025-01-10|           16131672|\n",
            "|2025-01-11|           16032943|\n",
            "|2025-01-12|           15596524|\n",
            "|2025-01-13|           16123723|\n",
            "|2025-01-14|           15704145|\n",
            "|2025-01-15|           15863836|\n",
            "|2025-01-16|           16310284|\n",
            "|2025-01-17|           15817954|\n",
            "|2025-01-18|           15902982|\n",
            "|2025-01-19|           15778157|\n",
            "|2025-01-20|           16128763|\n",
            "+----------+-------------------+\n",
            "only showing top 20 rows\n",
            "\n"
          ]
        }
      ],
      "source": [
        "from pyspark.sql import SparkSession\n",
        "from pyspark.sql import functions as F\n",
        "\n",
        "spark = SparkSession.builder.appName(\"IP\").getOrCreate()\n",
        "\n",
        "df = spark.read.csv(\"web_server_logs.csv\", header=True, inferSchema=True)\n",
        "\n",
        "# Сгруппируйте данные по IP и посчитайте количество запросов для каждого IP, выводим 10 самых активных IP. Формат вывода, как на скрине ниже.\n",
        "print(\"Top 10 active IP address:\")\n",
        "df.groupBy(\"ip\").agg(F.count(\"ip\").alias(\"request_count\")).sort(F.desc(\"request_count\")).limit(10).show()\n",
        "\n",
        "# Сгруппируйте данные по HTTP-методу и посчитайте количество запросов для каждого метода.\n",
        "print(\"Request count by HTTP method:\")\n",
        "df.groupBy(\"method\").agg(F.count(\"method\").alias(\"method_count\")).show()\n",
        "\n",
        "# Профильтруйте и посчитайте количество запросов с кодом ответа 404.\n",
        "response_code = df.filter(F.col('response_code') == '404')\n",
        "response_code_count = response_code.count()\n",
        "print(f'Number of 404 response codes: {response_code_count}')\n",
        "\n",
        "# Сгруппируйте данные по дате и просуммируйте размер ответов, сортируйте по дате.\n",
        "df_date = df.withColumn(\"date\", F.to_date(F.col(\"timestamp\")))\n",
        "df_date.groupBy(\"date\").agg(F.sum(F.col(\"response_size\")).alias(\"total_response_size\")).sort(F.col(\"date\")).show()\n",
        "\n",
        "spark.stop()"
      ]
    }
  ]
}